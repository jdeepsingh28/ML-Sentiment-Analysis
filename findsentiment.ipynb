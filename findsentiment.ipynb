{
 "cells": [
  {
   "cell_type": "code",
   "execution_count": 1,
   "id": "004f4c44-6eb6-429f-9332-80bdaad6170b",
   "metadata": {},
   "outputs": [],
   "source": [
    "# No Twitter example included because developer subscription expired and price of \n",
    "# developer subscription could no longer be justified for this project"
   ]
  },
  {
   "cell_type": "code",
   "execution_count": 2,
   "id": "7f79d841-74e8-4af5-a353-7e63f30f6b2d",
   "metadata": {},
   "outputs": [
    {
     "name": "stderr",
     "output_type": "stream",
     "text": [
      "2023-07-20 23:07:21.431857: I tensorflow/core/platform/cpu_feature_guard.cc:193] This TensorFlow binary is optimized with oneAPI Deep Neural Network Library (oneDNN) to use the following CPU instructions in performance-critical operations:  AVX2 FMA\n",
      "To enable them in other operations, rebuild TensorFlow with the appropriate compiler flags.\n",
      "2023-07-20 23:07:24.845328: W tensorflow/compiler/xla/stream_executor/platform/default/dso_loader.cc:64] Could not load dynamic library 'libnvinfer.so.7'; dlerror: libnvinfer.so.7: cannot open shared object file: No such file or directory; LD_LIBRARY_PATH: /usr/local/cuda/lib64:/usr/local/nccl2/lib:/usr/local/cuda/extras/CUPTI/lib64\n",
      "2023-07-20 23:07:24.845540: W tensorflow/compiler/xla/stream_executor/platform/default/dso_loader.cc:64] Could not load dynamic library 'libnvinfer_plugin.so.7'; dlerror: libnvinfer_plugin.so.7: cannot open shared object file: No such file or directory; LD_LIBRARY_PATH: /usr/local/cuda/lib64:/usr/local/nccl2/lib:/usr/local/cuda/extras/CUPTI/lib64\n",
      "2023-07-20 23:07:24.845554: W tensorflow/compiler/tf2tensorrt/utils/py_utils.cc:38] TF-TRT Warning: Cannot dlopen some TensorRT libraries. If you would like to use Nvidia GPU with TensorRT, please make sure the missing libraries mentioned above are installed properly.\n"
     ]
    }
   ],
   "source": [
    "import getdata\n",
    "import Model"
   ]
  },
  {
   "cell_type": "code",
   "execution_count": 3,
   "id": "a4aa8255-4aa2-4238-89cb-f11b62e2cd57",
   "metadata": {},
   "outputs": [],
   "source": [
    "data = getdata.get_google_data(\"Tesla\", \"2023-07-18\", \"2023-07-20\")"
   ]
  },
  {
   "cell_type": "code",
   "execution_count": 4,
   "id": "c12ad027-3aa1-4ab4-8119-465f2386ef0e",
   "metadata": {},
   "outputs": [
    {
     "name": "stdout",
     "output_type": "stream",
     "text": [
      "Positive Percentage: 70.0\n",
      "Negative Percentage: 30.0\n"
     ]
    }
   ],
   "source": [
    "Model.apply_model(data, \"google news\")"
   ]
  },
  {
   "cell_type": "code",
   "execution_count": null,
   "id": "ee3438fd-ff08-45b9-97b9-b5266a4389b9",
   "metadata": {},
   "outputs": [],
   "source": []
  }
 ],
 "metadata": {
  "environment": {
   "kernel": "python3",
   "name": "tf2-gpu.2-11.m108",
   "type": "gcloud",
   "uri": "gcr.io/deeplearning-platform-release/tf2-gpu.2-11:m108"
  },
  "kernelspec": {
   "display_name": "Python 3 (ipykernel)",
   "language": "python",
   "name": "python3"
  },
  "language_info": {
   "codemirror_mode": {
    "name": "ipython",
    "version": 3
   },
   "file_extension": ".py",
   "mimetype": "text/x-python",
   "name": "python",
   "nbconvert_exporter": "python",
   "pygments_lexer": "ipython3",
   "version": "3.10.10"
  }
 },
 "nbformat": 4,
 "nbformat_minor": 5
}
