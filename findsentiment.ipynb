{
 "cells": [
  {
   "cell_type": "code",
   "execution_count": 1,
   "id": "1e970129-362d-459a-a5cf-3aa0ed1774fc",
   "metadata": {},
   "outputs": [
    {
     "name": "stderr",
     "output_type": "stream",
     "text": [
      "2023-06-22 18:06:30.208200: I tensorflow/core/platform/cpu_feature_guard.cc:193] This TensorFlow binary is optimized with oneAPI Deep Neural Network Library (oneDNN) to use the following CPU instructions in performance-critical operations:  AVX2 FMA\n",
      "To enable them in other operations, rebuild TensorFlow with the appropriate compiler flags.\n",
      "2023-06-22 18:06:33.712300: W tensorflow/compiler/xla/stream_executor/platform/default/dso_loader.cc:64] Could not load dynamic library 'libnvinfer.so.7'; dlerror: libnvinfer.so.7: cannot open shared object file: No such file or directory; LD_LIBRARY_PATH: /usr/local/cuda/lib64:/usr/local/nccl2/lib:/usr/local/cuda/extras/CUPTI/lib64\n",
      "2023-06-22 18:06:33.712459: W tensorflow/compiler/xla/stream_executor/platform/default/dso_loader.cc:64] Could not load dynamic library 'libnvinfer_plugin.so.7'; dlerror: libnvinfer_plugin.so.7: cannot open shared object file: No such file or directory; LD_LIBRARY_PATH: /usr/local/cuda/lib64:/usr/local/nccl2/lib:/usr/local/cuda/extras/CUPTI/lib64\n",
      "2023-06-22 18:06:33.712471: W tensorflow/compiler/tf2tensorrt/utils/py_utils.cc:38] TF-TRT Warning: Cannot dlopen some TensorRT libraries. If you would like to use Nvidia GPU with TensorRT, please make sure the missing libraries mentioned above are installed properly.\n"
     ]
    }
   ],
   "source": [
    "import getdata\n",
    "import RoBERTaModel"
   ]
  },
  {
   "cell_type": "code",
   "execution_count": 2,
   "id": "d0a4eb62-4414-4a1c-a63b-79756ba58224",
   "metadata": {},
   "outputs": [],
   "source": [
    "google_data, dir_name = getdata.get_google_data(\"summer\", \"2023-06-19\", \"2023-06-20\")"
   ]
  },
  {
   "cell_type": "code",
   "execution_count": 3,
   "id": "708f5007-0ac5-4d0e-ac21-cfffff1b21ab",
   "metadata": {},
   "outputs": [
    {
     "name": "stdout",
     "output_type": "stream",
     "text": [
      "Final Sentiment Counts:\n",
      "          Total  Percentage\n",
      "positive     66        66.0\n",
      "neutral      30        30.0\n",
      "negative      4         4.0\n"
     ]
    }
   ],
   "source": [
    "RoBERTaModel.RoBERTa_model(google_data, dir_name)"
   ]
  },
  {
   "cell_type": "code",
   "execution_count": 4,
   "id": "3f24a8a8-d092-44b3-9c7d-fc766a653b29",
   "metadata": {},
   "outputs": [],
   "source": [
    "twitter_data, dir_name = getdata.get_twitter_data(\"summer\")"
   ]
  },
  {
   "cell_type": "code",
   "execution_count": 5,
   "id": "636f33b2-7def-4ddd-84a8-20c4503e752f",
   "metadata": {},
   "outputs": [
    {
     "name": "stdout",
     "output_type": "stream",
     "text": [
      "Final Sentiment Counts:\n",
      "          Total  Percentage\n",
      "neutral     306       61.32\n",
      "positive    189       37.88\n",
      "negative      4        0.80\n"
     ]
    }
   ],
   "source": [
    "RoBERTaModel.RoBERTa_model(twitter_data, dir_name)"
   ]
  },
  {
   "cell_type": "code",
   "execution_count": null,
   "id": "46ed7dc2-f671-45b3-b11a-212d4255ab07",
   "metadata": {},
   "outputs": [],
   "source": []
  }
 ],
 "metadata": {
  "environment": {
   "kernel": "python3",
   "name": "tf2-gpu.2-11.m108",
   "type": "gcloud",
   "uri": "gcr.io/deeplearning-platform-release/tf2-gpu.2-11:m108"
  },
  "kernelspec": {
   "display_name": "Python 3 (ipykernel)",
   "language": "python",
   "name": "python3"
  },
  "language_info": {
   "codemirror_mode": {
    "name": "ipython",
    "version": 3
   },
   "file_extension": ".py",
   "mimetype": "text/x-python",
   "name": "python",
   "nbconvert_exporter": "python",
   "pygments_lexer": "ipython3",
   "version": "3.10.10"
  }
 },
 "nbformat": 4,
 "nbformat_minor": 5
}
